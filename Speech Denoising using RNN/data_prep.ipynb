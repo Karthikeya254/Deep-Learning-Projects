{
 "cells": [
  {
   "cell_type": "markdown",
   "metadata": {},
   "source": [
    "# Data Preparation\n",
    "- Audio files are read from each of the train/validation/test folders respectively, STFT is applied on them and their magnitude values are saved in a list.\n",
    "- Each signal after applying STFT and taken the absolute value will produce a nparray of shape \\[dimensions, timesteps\\] and all such arrays are stored in a list.\n",
    "- The file names are sorted before modifying the signals so that the source/noise/mixed signals are aligned with list indices.\n",
    "- After obtained all the training data, all the data is saved as pickle files, so that it would be easy to read the processed data from next time."
   ]
  },
  {
   "cell_type": "code",
   "execution_count": null,
   "metadata": {},
   "outputs": [],
   "source": [
    "import os\n",
    "from os import listdir\n",
    "from os.path import isfile, join\n",
    "import numpy as np\n",
    "import pickle\n",
    "import librosa\n",
    "import matplotlib.pyplot as plt\n",
    "%matplotlib notebook"
   ]
  },
  {
   "cell_type": "markdown",
   "metadata": {},
   "source": [
    "## Training Data"
   ]
  },
  {
   "cell_type": "code",
   "execution_count": null,
   "metadata": {},
   "outputs": [],
   "source": [
    "train_path = '/opt/e533/timit-homework/tr/'\n",
    "s_files_train = [] # list of filenames of source signals\n",
    "n_files_train = [] # list of filenames of noise signals\n",
    "x_files_train = [] # list of filenames of mixed signals\n",
    "s_spect_train = [] # list of abs values of stft applied source signals\n",
    "n_spect_train = [] # list of abs values of stft applied noise signals\n",
    "x_spect_train = [] # list of abs values of stft applied mixed signals\n",
    "s_train_vec = []   # list of source signal vectors before applying STFT\n",
    "x_phase_train = [] # list of phase information of mixed signal\n",
    "count = 0\n",
    "\n",
    "# Reading filenames\n",
    "for f in listdir(train_path):\n",
    "    if isfile(join(train_path, f)):\n",
    "        if 'trx' in f:\n",
    "            x_files_train.append(join(train_path, f))\n",
    "        elif 'trs' in f:\n",
    "            s_files_train.append(join(train_path, f))\n",
    "        elif 'trn' in f:\n",
    "            n_files_train.append(join(train_path, f))\n",
    "\n",
    "# Sorting filenames to match indices\n",
    "s_files_train.sort()\n",
    "n_files_train.sort()\n",
    "x_files_train.sort()\n",
    "\n",
    "# Applying STFT\n",
    "for f in s_files_train:\n",
    "    sn, sr=librosa.load(f)\n",
    "    s_train_vec.append(sn)\n",
    "    X=librosa.stft(sn, n_fft=1024, hop_length=512)\n",
    "    abs_X = np.abs(X)\n",
    "    s_spect_train.append(abs_X)\n",
    "    count += 1\n",
    "    if(count%30==0): print(len(s_spect_train), \" -- \", len(n_spect_train), \" -- \", len(x_spect_train))\n",
    "for f in n_files_train:\n",
    "    sn, sr=librosa.load(f)\n",
    "    X=librosa.stft(sn, n_fft=1024, hop_length=512)\n",
    "    abs_X = np.abs(X)\n",
    "    n_spect_train.append(abs_X)\n",
    "    count += 1\n",
    "    if(count%30==0): print(len(s_spect_train), \" -- \", len(n_spect_train), \" -- \", len(x_spect_train))\n",
    "for f in x_files_train:\n",
    "    sn, sr=librosa.load(f)\n",
    "    X=librosa.stft(sn, n_fft=1024, hop_length=512)\n",
    "    abs_X = np.abs(X)\n",
    "    x_spect_train.append(abs_X)\n",
    "    phase = X/abs_X\n",
    "    x_phase_train.append(phase)\n",
    "    count += 1\n",
    "    if(count%30==0): print(len(s_spect_train), \" -- \", len(n_spect_train), \" -- \", len(x_spect_train))"
   ]
  },
  {
   "cell_type": "markdown",
   "metadata": {},
   "source": [
    "## Saving Training Data"
   ]
  },
  {
   "cell_type": "code",
   "execution_count": null,
   "metadata": {},
   "outputs": [],
   "source": [
    "# Saving all the processed training data into pickle files\n",
    "source_file = open('train_source', 'wb')\n",
    "pickle.dump(s_spect_train, source_file)\n",
    "source_file.close()\n",
    "source_file = open('train_noise', 'wb')\n",
    "pickle.dump(n_spect_train, source_file)\n",
    "source_file.close()\n",
    "source_file = open('train_mix', 'wb')\n",
    "pickle.dump(x_spect_train, source_file)\n",
    "source_file.close()\n",
    "source_file = open('train_mix_phase', 'wb')\n",
    "pickle.dump(x_phase_train, source_file)\n",
    "source_file.close()\n",
    "source_file = open('istft_source', 'wb')\n",
    "pickle.dump(s_train_vec, source_file)\n",
    "source_file.close()"
   ]
  },
  {
   "cell_type": "markdown",
   "metadata": {},
   "source": [
    "## Validation Data"
   ]
  },
  {
   "cell_type": "code",
   "execution_count": null,
   "metadata": {},
   "outputs": [],
   "source": [
    "valid_path = '/opt/e533/timit-homework/v/'\n",
    "s_files_valid = []\n",
    "n_files_valid = []\n",
    "x_files_valid = []\n",
    "s_spect_valid = []\n",
    "n_spect_valid = []\n",
    "x_spect_valid = []\n",
    "s_valid_vec = []\n",
    "x_phase_valid = []\n",
    "\n",
    "for f in listdir(valid_path):\n",
    "    if isfile(join(valid_path, f)):\n",
    "        if 'vx' in f:\n",
    "            x_files_valid.append(join(valid_path, f))\n",
    "        elif 'vs' in f:\n",
    "            s_files_valid.append(join(valid_path, f))\n",
    "        elif 'vn' in f:\n",
    "            n_files_valid.append(join(valid_path, f))\n",
    "s_files_valid.sort()\n",
    "n_files_valid.sort()\n",
    "x_files_valid.sort()\n",
    "\n",
    "for f in s_files_valid:\n",
    "    sn, sr=librosa.load(f, sr=None)\n",
    "    s_valid_vec.append(sn)\n",
    "    X=librosa.stft(sn, n_fft=1024, hop_length=512)\n",
    "    abs_X = np.abs(X)\n",
    "    s_spect_valid.append(abs_X)\n",
    "for f in n_files_valid:\n",
    "    sn, sr=librosa.load(f, sr=None)\n",
    "    X=librosa.stft(sn, n_fft=1024, hop_length=512)\n",
    "    abs_X = np.abs(X)\n",
    "    n_spect_valid.append(abs_X)\n",
    "for f in x_files_valid:\n",
    "    sn, sr=librosa.load(f, sr=None)\n",
    "    X=librosa.stft(sn, n_fft=1024, hop_length=512)\n",
    "    abs_X = np.abs(X)\n",
    "    x_spect_valid.append(abs_X)\n",
    "    phase = X/abs_X\n",
    "    x_phase_valid.append(phase)"
   ]
  },
  {
   "cell_type": "markdown",
   "metadata": {},
   "source": [
    "## Saving Validation Data"
   ]
  },
  {
   "cell_type": "code",
   "execution_count": null,
   "metadata": {},
   "outputs": [],
   "source": [
    "source_file = open('valid_source', 'wb')\n",
    "pickle.dump(s_spect_valid, source_file)\n",
    "source_file.close()\n",
    "source_file = open('valid_noise', 'wb')\n",
    "pickle.dump(n_spect_valid, source_file)\n",
    "source_file.close()\n",
    "source_file = open('valid_mix', 'wb')\n",
    "pickle.dump(x_spect_valid, source_file)\n",
    "source_file.close()\n",
    "source_file = open('valid_mix_phase', 'wb')\n",
    "pickle.dump(x_phase_valid, source_file)\n",
    "source_file.close()\n",
    "source_file = open('istft_valid', 'wb')\n",
    "pickle.dump(s_valid_vec, source_file)\n",
    "source_file.close()"
   ]
  },
  {
   "cell_type": "markdown",
   "metadata": {},
   "source": [
    "## Test Data"
   ]
  },
  {
   "cell_type": "code",
   "execution_count": null,
   "metadata": {},
   "outputs": [],
   "source": [
    "test_path = '/opt/e533/timit-homework/te/'\n",
    "x_files_test = []\n",
    "x_spect_test = []\n",
    "x_phase_test = []\n",
    "for f in listdir(test_path):\n",
    "    if isfile(join(test_path, f)):\n",
    "        x_files_test.append(join(test_path, f))\n",
    "x_files_test.sort()\n",
    "\n",
    "for f in x_files_test:\n",
    "    sn, sr=librosa.load(f)\n",
    "    X=librosa.stft(sn, n_fft=1024, hop_length=512)\n",
    "    abs_X = np.abs(X)\n",
    "    phase = X/abs_X\n",
    "    x_phase_test.append(phase)\n",
    "    x_spect_test.append(abs_X)"
   ]
  },
  {
   "cell_type": "markdown",
   "metadata": {},
   "source": [
    "## Saving Test Data"
   ]
  },
  {
   "cell_type": "code",
   "execution_count": null,
   "metadata": {},
   "outputs": [],
   "source": [
    "source_file = open('test_mix', 'wb')\n",
    "pickle.dump(x_spect_test, source_file)\n",
    "source_file.close()\n",
    "source_file = open('test_mix_phase', 'wb')\n",
    "pickle.dump(x_phase_test, source_file)\n",
    "source_file.close()"
   ]
  }
 ],
 "metadata": {
  "kernelspec": {
   "display_name": "Python 3",
   "language": "python",
   "name": "python3"
  },
  "language_info": {
   "codemirror_mode": {
    "name": "ipython",
    "version": 3
   },
   "file_extension": ".py",
   "mimetype": "text/x-python",
   "name": "python",
   "nbconvert_exporter": "python",
   "pygments_lexer": "ipython3",
   "version": "3.6.4"
  }
 },
 "nbformat": 4,
 "nbformat_minor": 2
}
